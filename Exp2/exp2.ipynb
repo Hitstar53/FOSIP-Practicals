{
 "cells": [
  {
   "cell_type": "code",
   "execution_count": 24,
   "metadata": {},
   "outputs": [],
   "source": [
    "import librosa\n",
    "import numpy as np\n",
    "import matplotlib.pyplot as plt\n",
    "from scipy.io import wavfile\n",
    "from scipy import signal\n",
    "import sounddevice as sd"
   ]
  },
  {
   "cell_type": "code",
   "execution_count": 25,
   "metadata": {},
   "outputs": [],
   "source": [
    "def load_audio_file(file_path):\n",
    "    return librosa.load(file_path, sr=44100)"
   ]
  },
  {
   "cell_type": "code",
   "execution_count": 26,
   "metadata": {},
   "outputs": [],
   "source": [
    "def correlation(x, y):\n",
    "    return np.correlate(x, y, mode='full')"
   ]
  },
  {
   "cell_type": "code",
   "execution_count": 37,
   "metadata": {},
   "outputs": [],
   "source": [
    "def energy(x):\n",
    "    return np.sum(x**2)"
   ]
  },
  {
   "cell_type": "code",
   "execution_count": 29,
   "metadata": {},
   "outputs": [],
   "source": [
    "def scale_signal(signal, factor):\n",
    "    return factor * signal"
   ]
  },
  {
   "cell_type": "code",
   "execution_count": 30,
   "metadata": {},
   "outputs": [],
   "source": [
    "def audio_authentication(audio_password, test_audio_password, threshold=0.9):\n",
    "    min_length = min(len(audio_password), len(test_audio_password))\n",
    "    r = np.corrcoef(audio_password[:min_length], test_audio_password[:min_length])[0, 1]\n",
    "    return r > threshold"
   ]
  },
  {
   "cell_type": "code",
   "execution_count": 31,
   "metadata": {},
   "outputs": [],
   "source": [
    "# Auto correlation of input signal\n",
    "def auto_correlation(signal):\n",
    "    y = correlation(signal, signal)\n",
    "    is_even = np.all(y % 2 == 0)\n",
    "    energy_y = energy(y)\n",
    "    significance_y_0 = y[len(y) // 2]\n",
    "    return y, is_even, energy_y, significance_y_0"
   ]
  },
  {
   "cell_type": "code",
   "execution_count": 32,
   "metadata": {},
   "outputs": [],
   "source": [
    "# Auto correlation of delayed input signal\n",
    "def delayed_auto_correlation(signal):\n",
    "    p = correlation(signal[:-1], signal[:-1])\n",
    "    return p"
   ]
  },
  {
   "cell_type": "code",
   "execution_count": 33,
   "metadata": {},
   "outputs": [],
   "source": [
    "# Cross correlation of input signal and delayed input signal\n",
    "def cross_correlation(signal1, signal2):\n",
    "    q = correlation(signal1, signal2)\n",
    "    return q"
   ]
  },
  {
   "cell_type": "code",
   "execution_count": 34,
   "metadata": {},
   "outputs": [],
   "source": [
    "# Cross correlation of input signal and scaled input signal\n",
    "def scaled_cross_correlation(signal1, scale_factor):\n",
    "    s = correlation(signal1, scale_signal(signal1, scale_factor))\n",
    "    return s"
   ]
  },
  {
   "cell_type": "code",
   "execution_count": 44,
   "metadata": {},
   "outputs": [],
   "source": [
    "# Step 1: load both audio files\n",
    "audio_password, _ = load_audio_file('audio_password.wav')\n",
    "test_audio_password, _ = load_audio_file('audio_password.wav')"
   ]
  },
  {
   "cell_type": "code",
   "execution_count": 45,
   "metadata": {},
   "outputs": [
    {
     "name": "stdout",
     "output_type": "stream",
     "text": [
      "Auto-correlation of input signal:\n",
      "Is Even: False\n",
      "Energy: 221393970.0\n",
      "Significance at y[0]: 1053.6848\n"
     ]
    }
   ],
   "source": [
    "# 1. Auto correlation of input signal\n",
    "y, is_even, energy_y, significance_y_0 = auto_correlation(audio_password)\n",
    "print(\"Auto-correlation of input signal:\")\n",
    "print(\"Is Even:\", is_even)\n",
    "print(\"Energy:\", energy_y)\n",
    "print(\"Significance at y[0]:\", significance_y_0)"
   ]
  },
  {
   "cell_type": "code",
   "execution_count": 46,
   "metadata": {},
   "outputs": [
    {
     "name": "stdout",
     "output_type": "stream",
     "text": [
      "Delayed Auto-correlation of input signal: [0. 0. 0. ... 0. 0. 0.]\n"
     ]
    }
   ],
   "source": [
    "# 2. Auto correlation of delayed input signal\n",
    "p = delayed_auto_correlation(audio_password)\n",
    "print(\"Delayed Auto-correlation of input signal:\", p)"
   ]
  },
  {
   "cell_type": "code",
   "execution_count": 47,
   "metadata": {},
   "outputs": [
    {
     "name": "stdout",
     "output_type": "stream",
     "text": [
      "Cross-correlation of input signal and delayed input signal: [ 0.0000000e+00  0.0000000e+00  0.0000000e+00 ... -3.0070078e-06\n",
      " -1.3054814e-06  9.2410482e-07]\n"
     ]
    }
   ],
   "source": [
    "# 3. Cross correlation of input signal and delayed input signal\n",
    "q = cross_correlation(audio_password, np.roll(audio_password, 1))\n",
    "print(\"Cross-correlation of input signal and delayed input signal:\", q)"
   ]
  },
  {
   "cell_type": "code",
   "execution_count": 48,
   "metadata": {},
   "outputs": [
    {
     "name": "stdout",
     "output_type": "stream",
     "text": [
      "Cross-correlation of input signal and scaled input signal with a = 2.0\n"
     ]
    }
   ],
   "source": [
    "# 4. Cross correlation of input signal and scaled input signal\n",
    "a = 2.0\n",
    "s = scaled_cross_correlation(audio_password, a)\n",
    "print(\"Cross-correlation of input signal and scaled input signal with a =\", a)"
   ]
  },
  {
   "cell_type": "code",
   "execution_count": 49,
   "metadata": {},
   "outputs": [
    {
     "name": "stdout",
     "output_type": "stream",
     "text": [
      "\n",
      "Audio Authentication Result: True\n"
     ]
    }
   ],
   "source": [
    "# Audio Authentication Example\n",
    "authenticated = audio_authentication(audio_password, test_audio_password)\n",
    "print(\"\\nAudio Authentication Result:\", authenticated)"
   ]
  }
 ],
 "metadata": {
  "kernelspec": {
   "display_name": "Python 3",
   "language": "python",
   "name": "python3"
  },
  "language_info": {
   "codemirror_mode": {
    "name": "ipython",
    "version": 3
   },
   "file_extension": ".py",
   "mimetype": "text/x-python",
   "name": "python",
   "nbconvert_exporter": "python",
   "pygments_lexer": "ipython3",
   "version": "3.12.0"
  }
 },
 "nbformat": 4,
 "nbformat_minor": 2
}
